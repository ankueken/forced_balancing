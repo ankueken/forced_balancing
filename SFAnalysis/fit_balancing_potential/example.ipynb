{
 "cells": [
  {
   "cell_type": "code",
   "execution_count": 1,
   "metadata": {},
   "outputs": [],
   "source": [
    "import sys\n",
    "import os\n",
    "import pandas as pd\n",
    "sys.path.append('../code/')\n",
    "import sfanalysis as sf"
   ]
  },
  {
   "cell_type": "code",
   "execution_count": 8,
   "metadata": {
    "collapsed": true,
    "scrolled": true
   },
   "outputs": [],
   "source": [
    "deg_dir = 'degseqs_GEM/'"
   ]
  },
  {
   "cell_type": "code",
   "execution_count": null,
   "metadata": {},
   "outputs": [],
   "source": [
    "deg_df = sf.organize_degree_sequences(deg_dir)"
   ]
  },
  {
   "cell_type": "code",
   "execution_count": null,
   "metadata": {},
   "outputs": [],
   "source": [
    "analysis_df = sf.analyze_degree_sequences(deg_dir,deg_df)"
   ]
  },
  {
   "cell_type": "code",
   "execution_count": null,
   "metadata": {},
   "outputs": [],
   "source": [
    "analysis_df"
   ]
  },
  {
   "cell_type": "code",
   "execution_count": null,
   "metadata": {},
   "outputs": [],
   "source": [
    "analysis_df['fp_gml'] = analysis_df.index\n",
    "hyps_df = sf.categorize_networks(analysis_df)\n",
    "hyps_df"
   ]
  },
  {
   "cell_type": "code",
   "execution_count": 11,
   "metadata": {},
   "outputs": [],
   "source": [
    "import fit\n",
    "import lrt\n",
    "import importfiles as im\n",
    "import sortgmls as sg\n",
    "import numpy as np\n",
    "import pandas as pd\n",
    "import igraph\n",
    "import os\n",
    "import collections\n",
    "\n",
    "def writeerror_analysis(errormessage):\n",
    "    errorfp = 'analysiserror.txt'\n",
    "    known = False\n",
    "    f = open(errorfp, 'a+')\n",
    "    f.seek(0)\n",
    "    for line in f:\n",
    "        if line == errormessage:\n",
    "            known = True\n",
    "    if not known:\n",
    "        f.write(errormessage)\n",
    "    f.close()"
   ]
  },
  {
   "cell_type": "markdown",
   "metadata": {},
   "source": [
    "fit power law"
   ]
  },
  {
   "cell_type": "code",
   "execution_count": null,
   "metadata": {},
   "outputs": [],
   "source": [
    "analysis=analysis_df\n",
    "for fn in analysis.index:\n",
    "        fp = deg_dir + fn\n",
    "        x = im.readdata(fp)\n",
    "        print(fp)\n",
    "        # note if there is a problem with the file\n",
    "        n = len(x)\n",
    "        if np.mean(x) < 2 or np.mean(x) > np.sqrt(n):\n",
    "            errormessage = \"%s has a bad mean degree \\n\" %fp\n",
    "            writeerror_analysis(errormessage)\n",
    "        # catch for trivial degree sequences\n",
    "        elif len(np.unique(x)) == 1:\n",
    "            errormessage = \"%s contains only one unique value \\n\" %fp\n",
    "            writeerror_analysis(errormessage)\n",
    "        else:\n",
    "            if pd.isna(analysis['ppl'][fn]): \n",
    "                analysis['n'][fn] = n\n",
    "                [alpha, xmin, ntail,  L, ks] = fit.pl(x)\n",
    "                p = fit.plpval(x,alpha, xmin, ks)\n",
    "                analysis['alpha'][fn] = alpha\n",
    "                analysis['xmin'][fn] = xmin\n",
    "                analysis['ntail'][fn] = ntail\n",
    "                analysis['Lpl'][fn] = L\n",
    "                analysis['ppl'][fn] = p\n"
   ]
  },
  {
   "cell_type": "code",
   "execution_count": null,
   "metadata": {},
   "outputs": [],
   "source": [
    "analysis2 = pd.DataFrame(columns=['n', 'alpha', 'lam'])\n",
    "for fm in analysis.index:\n",
    "        if fm == 'P_putida_iJN746.txt':\n",
    "                print(fm)\n",
    "                analysis2['n'][fm] = n\n",
    "                analysis2['alpha'][fm] = 'na'\n",
    "                analysis2['lam'][fm] = 'na'\n",
    "        elif fm == 'T_maritima_iLJ478.txt':\n",
    "                print(fm)\n",
    "                analysis2['n'][fm] = n\n",
    "                analysis2['alpha'][fm] = 'na'\n",
    "                analysis2['lam'][fm] = 'na'\n",
    "        else:\n",
    "                fp = deg_dir + fm\n",
    "                x = im.readdata(fp)\n",
    "                print(fp)\n",
    "                # note if there is a problem with the file\n",
    "                n = len(x)\n",
    "                analysis2['n'][fm] = n\n",
    "                [alpha, lam, LplwcV, convstatus] = fit.plwc(x, analysis['alpha'][fm])\n",
    "                analysis2['alpha'][fm] = alpha\n",
    "                analysis2['lam'][fm] = lam\n",
    "\n"
   ]
  }
 ],
 "metadata": {
  "kernelspec": {
   "display_name": "Python 3",
   "language": "python",
   "name": "python3"
  },
  "language_info": {
   "codemirror_mode": {
    "name": "ipython",
    "version": 3
   },
   "file_extension": ".py",
   "mimetype": "text/x-python",
   "name": "python",
   "nbconvert_exporter": "python",
   "pygments_lexer": "ipython3",
   "version": "3.11.9"
  }
 },
 "nbformat": 4,
 "nbformat_minor": 2
}
